{
 "cells": [
  {
   "cell_type": "code",
   "execution_count": null,
   "metadata": {},
   "outputs": [],
   "source": []
  },
  {
   "cell_type": "code",
   "execution_count": 1,
   "metadata": {},
   "outputs": [],
   "source": [
    "import geopandas as gpd\n",
    "import pandas as pd\n",
    "import urllib.request\n",
    "import requests\n",
    "import json\n",
    "import bs4"
   ]
  },
  {
   "cell_type": "code",
   "execution_count": 2,
   "metadata": {},
   "outputs": [],
   "source": [
    "key='eXE1HOhkHfKQCbHWTMUlIQvXHSyXSrne'\n",
    "urlhead='https://api.map.baidu.com/directionlite/v1/driving?'"
   ]
  },
  {
   "cell_type": "code",
   "execution_count": 6,
   "metadata": {},
   "outputs": [
    {
     "name": "stdout",
     "output_type": "stream",
     "text": [
      "{'status': 2, 'message': 'origin or destination is invalid'}\n"
     ]
    }
   ],
   "source": [
    "origcood=\"51.524623,-0.134207\"\n",
    "destcood=\"51.422230,-0.070799\"\n",
    "url=urlhead+\"origin=\"+str(origcood)+\"&destination=\"+str(destcood)+\"&ak=\"+key\n",
    "result=json.loads(urllib.request.urlopen(url).read())\n",
    "# 左边的索引控制orig;右边的索引控制dest\n",
    "print(result)"
   ]
  },
  {
   "cell_type": "code",
   "execution_count": null,
   "metadata": {},
   "outputs": [],
   "source": []
  },
  {
   "cell_type": "code",
   "execution_count": null,
   "metadata": {},
   "outputs": [],
   "source": []
  }
 ],
 "metadata": {
  "kernelspec": {
   "display_name": "Python 3",
   "language": "python",
   "name": "python3"
  },
  "language_info": {
   "codemirror_mode": {
    "name": "ipython",
    "version": 3
   },
   "file_extension": ".py",
   "mimetype": "text/x-python",
   "name": "python",
   "nbconvert_exporter": "python",
   "pygments_lexer": "ipython3",
   "version": "3.7.8"
  }
 },
 "nbformat": 4,
 "nbformat_minor": 4
}
